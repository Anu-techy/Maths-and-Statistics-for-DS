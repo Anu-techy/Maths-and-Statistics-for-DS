{
 "cells": [
  {
   "cell_type": "code",
   "execution_count": 1,
   "id": "f038c3d7-26f1-45f4-b884-ef83532c6dc9",
   "metadata": {},
   "outputs": [],
   "source": [
    "import pandas as pd\n",
    "import matplotlib.pyplot as plt\n",
    "import seaborn as sns"
   ]
  },
  {
   "cell_type": "code",
   "execution_count": 3,
   "id": "5ea4d80d-6130-4712-96e8-1877a3918345",
   "metadata": {},
   "outputs": [
    {
     "data": {
      "text/html": [
       "<div>\n",
       "<style scoped>\n",
       "    .dataframe tbody tr th:only-of-type {\n",
       "        vertical-align: middle;\n",
       "    }\n",
       "\n",
       "    .dataframe tbody tr th {\n",
       "        vertical-align: top;\n",
       "    }\n",
       "\n",
       "    .dataframe thead th {\n",
       "        text-align: right;\n",
       "    }\n",
       "</style>\n",
       "<table border=\"1\" class=\"dataframe\">\n",
       "  <thead>\n",
       "    <tr style=\"text-align: right;\">\n",
       "      <th></th>\n",
       "      <th>name</th>\n",
       "      <th>height</th>\n",
       "    </tr>\n",
       "  </thead>\n",
       "  <tbody>\n",
       "    <tr>\n",
       "      <th>0</th>\n",
       "      <td>Aarav</td>\n",
       "      <td>5.45</td>\n",
       "    </tr>\n",
       "    <tr>\n",
       "      <th>1</th>\n",
       "      <td>Deepika</td>\n",
       "      <td>8.20</td>\n",
       "    </tr>\n",
       "    <tr>\n",
       "      <th>2</th>\n",
       "      <td>Abhishek</td>\n",
       "      <td>5.65</td>\n",
       "    </tr>\n",
       "    <tr>\n",
       "      <th>3</th>\n",
       "      <td>Sneha</td>\n",
       "      <td>5.52</td>\n",
       "    </tr>\n",
       "    <tr>\n",
       "      <th>4</th>\n",
       "      <td>Kriti</td>\n",
       "      <td>5.69</td>\n",
       "    </tr>\n",
       "  </tbody>\n",
       "</table>\n",
       "</div>"
      ],
      "text/plain": [
       "       name  height\n",
       "0     Aarav    5.45\n",
       "1   Deepika    8.20\n",
       "2  Abhishek    5.65\n",
       "3     Sneha    5.52\n",
       "4     Kriti    5.69"
      ]
     },
     "execution_count": 3,
     "metadata": {},
     "output_type": "execute_result"
    }
   ],
   "source": [
    "df = pd.read_csv(\"heights_with_outliers.csv\")\n",
    "df.head()"
   ]
  },
  {
   "cell_type": "code",
   "execution_count": 7,
   "id": "7f1bc493-d6e1-4f79-b986-72282859e23e",
   "metadata": {},
   "outputs": [
    {
     "data": {
      "text/plain": [
       "(5.61, 0.37)"
      ]
     },
     "execution_count": 7,
     "metadata": {},
     "output_type": "execute_result"
    }
   ],
   "source": [
    "mean = round(df[\"height\"].mean(),2)\n",
    "std =  round(df[\"height\"].std(),2)\n",
    "mean,std"
   ]
  },
  {
   "cell_type": "code",
   "execution_count": 9,
   "id": "8b909389-a6ad-43a6-955d-256addfcf5c2",
   "metadata": {},
   "outputs": [
    {
     "data": {
      "text/plain": [
       "<matplotlib.lines.Line2D at 0x1ec57ab03b0>"
      ]
     },
     "execution_count": 9,
     "metadata": {},
     "output_type": "execute_result"
    },
    {
     "data": {
      "image/png": "[encoded data removed]",
      "text/plain": [
       "<Figure size 640x480 with 1 Axes>"
      ]
     },
     "metadata": {},
     "output_type": "display_data"
    }
   ],
   "source": [
    "sns.histplot(df[\"height\"],kde = True)\n",
    "plt.axvline(mean, color = \"black\", linestyle = \"dashed\")\n",
    "\n",
    "plt.axvline(mean+std, color = \"r\", linestyle = \"dashed\")\n",
    "plt.axvline(mean-std, color = \"r\", linestyle = \"dashed\")\n",
    "\n",
    "plt.axvline(mean+2*std, color = \"g\", linestyle = \"dashed\")\n",
    "plt.axvline(mean-2*std, color = \"g\", linestyle = \"dashed\")\n",
    "\n",
    "plt.axvline(mean+3*std, color = \"b\", linestyle = \"dashed\")\n",
    "plt.axvline(mean-3*std, color = \"b\", linestyle = \"dashed\")"
   ]
  },
  {
   "cell_type": "code",
   "execution_count": 11,
   "id": "4d5de524-0a19-45cc-95ae-0204429c62a1",
   "metadata": {},
   "outputs": [],
   "source": [
    "df['z-score'] = (df['height'] - mean) / std"
   ]
  },
  {
   "cell_type": "code",
   "execution_count": 13,
   "id": "254db03a-44b2-4231-a351-91ce0c62c703",
   "metadata": {},
   "outputs": [
    {
     "data": {
      "text/html": [
       "<div>\n",
       "<style scoped>\n",
       "    .dataframe tbody tr th:only-of-type {\n",
       "        vertical-align: middle;\n",
       "    }\n",
       "\n",
       "    .dataframe tbody tr th {\n",
       "        vertical-align: top;\n",
       "    }\n",
       "\n",
       "    .dataframe thead th {\n",
       "        text-align: right;\n",
       "    }\n",
       "</style>\n",
       "<table border=\"1\" class=\"dataframe\">\n",
       "  <thead>\n",
       "    <tr style=\"text-align: right;\">\n",
       "      <th></th>\n",
       "      <th>name</th>\n",
       "      <th>height</th>\n",
       "      <th>z-score</th>\n",
       "    </tr>\n",
       "  </thead>\n",
       "  <tbody>\n",
       "    <tr>\n",
       "      <th>0</th>\n",
       "      <td>Aarav</td>\n",
       "      <td>5.45</td>\n",
       "      <td>-0.432432</td>\n",
       "    </tr>\n",
       "    <tr>\n",
       "      <th>1</th>\n",
       "      <td>Deepika</td>\n",
       "      <td>8.20</td>\n",
       "      <td>7.000000</td>\n",
       "    </tr>\n",
       "    <tr>\n",
       "      <th>2</th>\n",
       "      <td>Abhishek</td>\n",
       "      <td>5.65</td>\n",
       "      <td>0.108108</td>\n",
       "    </tr>\n",
       "    <tr>\n",
       "      <th>3</th>\n",
       "      <td>Sneha</td>\n",
       "      <td>5.52</td>\n",
       "      <td>-0.243243</td>\n",
       "    </tr>\n",
       "    <tr>\n",
       "      <th>4</th>\n",
       "      <td>Kriti</td>\n",
       "      <td>5.69</td>\n",
       "      <td>0.216216</td>\n",
       "    </tr>\n",
       "  </tbody>\n",
       "</table>\n",
       "</div>"
      ],
      "text/plain": [
       "       name  height   z-score\n",
       "0     Aarav    5.45 -0.432432\n",
       "1   Deepika    8.20  7.000000\n",
       "2  Abhishek    5.65  0.108108\n",
       "3     Sneha    5.52 -0.243243\n",
       "4     Kriti    5.69  0.216216"
      ]
     },
     "execution_count": 13,
     "metadata": {},
     "output_type": "execute_result"
    }
   ],
   "source": [
    "df.head()"
   ]
  },
  {
   "cell_type": "code",
   "execution_count": 15,
   "id": "5d6354f4-4bfa-4c69-b15b-261837536a9b",
   "metadata": {},
   "outputs": [
    {
     "data": {
      "text/html": [
       "<div>\n",
       "<style scoped>\n",
       "    .dataframe tbody tr th:only-of-type {\n",
       "        vertical-align: middle;\n",
       "    }\n",
       "\n",
       "    .dataframe tbody tr th {\n",
       "        vertical-align: top;\n",
       "    }\n",
       "\n",
       "    .dataframe thead th {\n",
       "        text-align: right;\n",
       "    }\n",
       "</style>\n",
       "<table border=\"1\" class=\"dataframe\">\n",
       "  <thead>\n",
       "    <tr style=\"text-align: right;\">\n",
       "      <th></th>\n",
       "      <th>name</th>\n",
       "      <th>height</th>\n",
       "      <th>z-score</th>\n",
       "    </tr>\n",
       "  </thead>\n",
       "  <tbody>\n",
       "    <tr>\n",
       "      <th>1</th>\n",
       "      <td>Deepika</td>\n",
       "      <td>8.2</td>\n",
       "      <td>7.000000</td>\n",
       "    </tr>\n",
       "    <tr>\n",
       "      <th>16</th>\n",
       "      <td>Tanvi</td>\n",
       "      <td>3.2</td>\n",
       "      <td>-6.513514</td>\n",
       "    </tr>\n",
       "    <tr>\n",
       "      <th>57</th>\n",
       "      <td>Priya</td>\n",
       "      <td>3.4</td>\n",
       "      <td>-5.972973</td>\n",
       "    </tr>\n",
       "    <tr>\n",
       "      <th>76</th>\n",
       "      <td>Aarav</td>\n",
       "      <td>9.4</td>\n",
       "      <td>10.243243</td>\n",
       "    </tr>\n",
       "  </tbody>\n",
       "</table>\n",
       "</div>"
      ],
      "text/plain": [
       "       name  height    z-score\n",
       "1   Deepika     8.2   7.000000\n",
       "16    Tanvi     3.2  -6.513514\n",
       "57    Priya     3.4  -5.972973\n",
       "76    Aarav     9.4  10.243243"
      ]
     },
     "execution_count": 15,
     "metadata": {},
     "output_type": "execute_result"
    }
   ],
   "source": [
    "df [ (df[\"z-score\"] < -3) | (df[\"z-score\"] > 3) ]          # outliers"
   ]
  },
  {
   "cell_type": "code",
   "execution_count": 17,
   "id": "9c848bc0-bcae-41f8-8886-aaa3ddc9b4ad",
   "metadata": {},
   "outputs": [],
   "source": [
    "df = df [ (df[\"z-score\"] > -3) & (df[\"z-score\"] < 3) ]    "
   ]
  },
  {
   "cell_type": "code",
   "execution_count": 19,
   "id": "90cc469b-07af-49c5-9ff1-8c7c2430a791",
   "metadata": {},
   "outputs": [
    {
     "data": {
      "text/plain": [
       "(5.61, 0.33)"
      ]
     },
     "execution_count": 19,
     "metadata": {},
     "output_type": "execute_result"
    }
   ],
   "source": [
    "mean = round(df[\"height\"].mean(),2)\n",
    "std =  round(df[\"height\"].std(),2)\n",
    "mean,std"
   ]
  },
  {
   "cell_type": "code",
   "execution_count": 21,
   "id": "283aaec9-1f1e-45c5-b01d-e6224bdcff9e",
   "metadata": {},
   "outputs": [
    {
     "data": {
      "text/plain": [
       "<matplotlib.lines.Line2D at 0x1ec58d29940>"
      ]
     },
     "execution_count": 21,
     "metadata": {},
     "output_type": "execute_result"
    },
    {
     "data": {
      "image/png": "[encoded data removed]",
      "text/plain": [
       "<Figure size 640x480 with 1 Axes>"
      ]
     },
     "metadata": {},
     "output_type": "display_data"
    }
   ],
   "source": [
    "sns.histplot(df[\"height\"],kde = True)\n",
    "plt.axvline(mean, color = \"black\", linestyle = \"dashed\")\n",
    "\n",
    "plt.axvline(mean+std, color = \"r\", linestyle = \"dashed\")\n",
    "plt.axvline(mean-std, color = \"r\", linestyle = \"dashed\")\n",
    "\n",
    "plt.axvline(mean+2*std, color = \"g\", linestyle = \"dashed\")\n",
    "plt.axvline(mean-2*std, color = \"g\", linestyle = \"dashed\")\n",
    "\n",
    "plt.axvline(mean+3*std, color = \"b\", linestyle = \"dashed\")\n",
    "plt.axvline(mean-3*std, color = \"b\", linestyle = \"dashed\")"
   ]
  },
  {
   "cell_type": "code",
   "execution_count": null,
   "id": "61723e42-58c9-479b-8e86-c0359506f5ce",
   "metadata": {},
   "outputs": [],
   "source": []
  }
 ],
 "metadata": {
  "kernelspec": {
   "display_name": "Python [conda env:base] *",
   "language": "python",
   "name": "conda-base-py"
  },
  "language_info": {
   "codemirror_mode": {
    "name": "ipython",
    "version": 3
   },
   "file_extension": ".py",
   "mimetype": "text/x-python",
   "name": "python",
   "nbconvert_exporter": "python",
   "pygments_lexer": "ipython3",
   "version": "3.12.7"
  }
 },
 "nbformat": 4,
 "nbformat_minor": 5
}
