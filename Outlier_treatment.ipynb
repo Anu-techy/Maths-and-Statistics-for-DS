{
 "cells": [
  {
   "cell_type": "code",
   "execution_count": 139,
   "id": "4674272d-e3f2-462c-8bc3-ae662582c6b0",
   "metadata": {},
   "outputs": [],
   "source": [
    "# iqr = q3-q1\n",
    "# lower_limit = q1 - 1.5*iqr\n",
    "# upper_limit = q3 + 1.5*iqr"
   ]
  },
  {
   "cell_type": "code",
   "execution_count": 140,
   "id": "5d530cf5-80c4-4fca-ba42-01b0cd221092",
   "metadata": {},
   "outputs": [
    {
     "data": {
      "text/html": [
       "<div>\n",
       "<style scoped>\n",
       "    .dataframe tbody tr th:only-of-type {\n",
       "        vertical-align: middle;\n",
       "    }\n",
       "\n",
       "    .dataframe tbody tr th {\n",
       "        vertical-align: top;\n",
       "    }\n",
       "\n",
       "    .dataframe thead th {\n",
       "        text-align: right;\n",
       "    }\n",
       "</style>\n",
       "<table border=\"1\" class=\"dataframe\">\n",
       "  <thead>\n",
       "    <tr style=\"text-align: right;\">\n",
       "      <th></th>\n",
       "      <th>name</th>\n",
       "      <th>height</th>\n",
       "    </tr>\n",
       "  </thead>\n",
       "  <tbody>\n",
       "    <tr>\n",
       "      <th>0</th>\n",
       "      <td>mohan</td>\n",
       "      <td>1.2</td>\n",
       "    </tr>\n",
       "    <tr>\n",
       "      <th>1</th>\n",
       "      <td>maria</td>\n",
       "      <td>4.6</td>\n",
       "    </tr>\n",
       "    <tr>\n",
       "      <th>2</th>\n",
       "      <td>sakib</td>\n",
       "      <td>4.9</td>\n",
       "    </tr>\n",
       "    <tr>\n",
       "      <th>3</th>\n",
       "      <td>tao</td>\n",
       "      <td>5.1</td>\n",
       "    </tr>\n",
       "    <tr>\n",
       "      <th>4</th>\n",
       "      <td>virat</td>\n",
       "      <td>5.2</td>\n",
       "    </tr>\n",
       "  </tbody>\n",
       "</table>\n",
       "</div>"
      ],
      "text/plain": [
       "    name  height\n",
       "0  mohan     1.2\n",
       "1  maria     4.6\n",
       "2  sakib     4.9\n",
       "3    tao     5.1\n",
       "4  virat     5.2"
      ]
     },
     "execution_count": 140,
     "metadata": {},
     "output_type": "execute_result"
    }
   ],
   "source": [
    "import pandas as pd\n",
    "\n",
    "df = pd.read_csv(\"heights.csv\")\n",
    "df.head()"
   ]
  },
  {
   "cell_type": "code",
   "execution_count": 141,
   "id": "95abe13b-7aa6-4264-84a7-770f2cc7a5cb",
   "metadata": {},
   "outputs": [
    {
     "data": {
      "text/plain": [
       "(5.3500000000000005, 6.275)"
      ]
     },
     "execution_count": 141,
     "metadata": {},
     "output_type": "execute_result"
    }
   ],
   "source": [
    "q1, q3 = df[\"height\"].quantile([0.25,0.75])\n",
    "q1, q3"
   ]
  },
  {
   "cell_type": "code",
   "execution_count": 142,
   "id": "970a72ae-9b30-44ff-be86-8057436c7cdc",
   "metadata": {},
   "outputs": [
    {
     "data": {
      "text/plain": [
       "0.9249999999999998"
      ]
     },
     "execution_count": 142,
     "metadata": {},
     "output_type": "execute_result"
    }
   ],
   "source": [
    "iqr = q3 - q1\n",
    "iqr"
   ]
  },
  {
   "cell_type": "code",
   "execution_count": 143,
   "id": "b31e7e1d-c0c5-4804-b034-42a0ee43f37b",
   "metadata": {},
   "outputs": [
    {
     "data": {
      "text/plain": [
       "3.962500000000001"
      ]
     },
     "execution_count": 143,
     "metadata": {},
     "output_type": "execute_result"
    }
   ],
   "source": [
    "lower_limit = q1 - 1.5*iqr\n",
    "lower_limit"
   ]
  },
  {
   "cell_type": "code",
   "execution_count": 144,
   "id": "de91a32a-407a-4fc7-8d1e-9c5e4d1209ca",
   "metadata": {},
   "outputs": [
    {
     "data": {
      "text/plain": [
       "7.6625"
      ]
     },
     "execution_count": 144,
     "metadata": {},
     "output_type": "execute_result"
    }
   ],
   "source": [
    "upper_limit = q3 + 1.5*iqr\n",
    "upper_limit"
   ]
  },
  {
   "cell_type": "code",
   "execution_count": 145,
   "id": "8cb8dc69-3d56-4461-ae04-a7a0b3afbce8",
   "metadata": {},
   "outputs": [
    {
     "data": {
      "text/html": [
       "<div>\n",
       "<style scoped>\n",
       "    .dataframe tbody tr th:only-of-type {\n",
       "        vertical-align: middle;\n",
       "    }\n",
       "\n",
       "    .dataframe tbody tr th {\n",
       "        vertical-align: top;\n",
       "    }\n",
       "\n",
       "    .dataframe thead th {\n",
       "        text-align: right;\n",
       "    }\n",
       "</style>\n",
       "<table border=\"1\" class=\"dataframe\">\n",
       "  <thead>\n",
       "    <tr style=\"text-align: right;\">\n",
       "      <th></th>\n",
       "      <th>name</th>\n",
       "      <th>height</th>\n",
       "    </tr>\n",
       "  </thead>\n",
       "  <tbody>\n",
       "    <tr>\n",
       "      <th>0</th>\n",
       "      <td>mohan</td>\n",
       "      <td>1.2</td>\n",
       "    </tr>\n",
       "    <tr>\n",
       "      <th>19</th>\n",
       "      <td>Liu</td>\n",
       "      <td>40.2</td>\n",
       "    </tr>\n",
       "  </tbody>\n",
       "</table>\n",
       "</div>"
      ],
      "text/plain": [
       "     name  height\n",
       "0   mohan     1.2\n",
       "19    Liu    40.2"
      ]
     },
     "execution_count": 145,
     "metadata": {},
     "output_type": "execute_result"
    }
   ],
   "source": [
    "df[ (df[\"height\"] < lower_limit) | (df[\"height\"] > upper_limit) ]"
   ]
  },
  {
   "cell_type": "code",
   "execution_count": 146,
   "id": "36b2b78e-f223-4531-895d-cda5a5e6add5",
   "metadata": {},
   "outputs": [],
   "source": [
    "# to remove outliers\n",
    "df = df[ (df[\"height\"] > lower_limit) & (df[\"height\"] < upper_limit) ]"
   ]
  },
  {
   "cell_type": "code",
   "execution_count": 147,
   "id": "1bb78def-da99-4cb1-8ddf-207af09e031c",
   "metadata": {},
   "outputs": [],
   "source": [
    "# we removed outliers, we can substitue them with the mean/median value , whatever appropriately as per domain expertise\n",
    "# sometimes having outliers might be ok for better model or prediction , depends on context"
   ]
  },
  {
   "cell_type": "code",
   "execution_count": 148,
   "id": "84936c51-2204-4238-a61a-13d3300f9f0e",
   "metadata": {},
   "outputs": [],
   "source": [
    "# Box plot to treat outliers"
   ]
  },
  {
   "cell_type": "code",
   "execution_count": 149,
   "id": "6b50c371-d1d7-48cc-b28f-93db104e0133",
   "metadata": {},
   "outputs": [
    {
     "data": {
      "text/html": [
       "<div>\n",
       "<style scoped>\n",
       "    .dataframe tbody tr th:only-of-type {\n",
       "        vertical-align: middle;\n",
       "    }\n",
       "\n",
       "    .dataframe tbody tr th {\n",
       "        vertical-align: top;\n",
       "    }\n",
       "\n",
       "    .dataframe thead th {\n",
       "        text-align: right;\n",
       "    }\n",
       "</style>\n",
       "<table border=\"1\" class=\"dataframe\">\n",
       "  <thead>\n",
       "    <tr style=\"text-align: right;\">\n",
       "      <th></th>\n",
       "      <th>Month</th>\n",
       "      <th>Year</th>\n",
       "      <th>Region</th>\n",
       "      <th>Sales</th>\n",
       "    </tr>\n",
       "  </thead>\n",
       "  <tbody>\n",
       "    <tr>\n",
       "      <th>0</th>\n",
       "      <td>January</td>\n",
       "      <td>2022</td>\n",
       "      <td>APAC</td>\n",
       "      <td>36750</td>\n",
       "    </tr>\n",
       "    <tr>\n",
       "      <th>1</th>\n",
       "      <td>February</td>\n",
       "      <td>2022</td>\n",
       "      <td>APAC</td>\n",
       "      <td>36995</td>\n",
       "    </tr>\n",
       "    <tr>\n",
       "      <th>2</th>\n",
       "      <td>March</td>\n",
       "      <td>2022</td>\n",
       "      <td>APAC</td>\n",
       "      <td>18579</td>\n",
       "    </tr>\n",
       "    <tr>\n",
       "      <th>3</th>\n",
       "      <td>April</td>\n",
       "      <td>2022</td>\n",
       "      <td>APAC</td>\n",
       "      <td>37768</td>\n",
       "    </tr>\n",
       "    <tr>\n",
       "      <th>4</th>\n",
       "      <td>May</td>\n",
       "      <td>2022</td>\n",
       "      <td>APAC</td>\n",
       "      <td>23956</td>\n",
       "    </tr>\n",
       "  </tbody>\n",
       "</table>\n",
       "</div>"
      ],
      "text/plain": [
       "      Month  Year Region  Sales\n",
       "0   January  2022   APAC  36750\n",
       "1  February  2022   APAC  36995\n",
       "2     March  2022   APAC  18579\n",
       "3     April  2022   APAC  37768\n",
       "4       May  2022   APAC  23956"
      ]
     },
     "execution_count": 149,
     "metadata": {},
     "output_type": "execute_result"
    }
   ],
   "source": [
    "df = pd.read_excel(\"region_wise_sales.xlsx\")\n",
    "df.head()"
   ]
  },
  {
   "cell_type": "code",
   "execution_count": 150,
   "id": "18797d52-657b-42f3-918e-759dcfeacbad",
   "metadata": {},
   "outputs": [
    {
     "data": {
      "text/plain": [
       "array(['APAC', 'Europe', 'Americas'], dtype=object)"
      ]
     },
     "execution_count": 150,
     "metadata": {},
     "output_type": "execute_result"
    }
   ],
   "source": [
    "df[\"Region\"].unique()"
   ]
  },
  {
   "cell_type": "code",
   "execution_count": 151,
   "id": "b0c021c8-c694-4639-ab60-00633b2b3d48",
   "metadata": {},
   "outputs": [],
   "source": [
    "#for detecting outliers , we need different data as per region, bcoz sales range will be different for different regions"
   ]
  },
  {
   "cell_type": "code",
   "execution_count": 152,
   "id": "f03c22fe-6a44-4983-9002-5b2cdef58307",
   "metadata": {},
   "outputs": [],
   "source": [
    "df_apac = df[df[\"Region\"] == 'APAC']\n",
    "df_europe = df[df[\"Region\"] == 'Europe']\n",
    "df_americas = df[df[\"Region\"] == 'Americas']"
   ]
  },
  {
   "cell_type": "code",
   "execution_count": 153,
   "id": "999905b8-1a1c-46fe-b4a0-a801138fe6f8",
   "metadata": {},
   "outputs": [],
   "source": [
    "def  get_lower_upper(data):\n",
    "    q1, q3 = data[\"Sales\"].quantile([0.25,0.75])\n",
    "    iqr = q3 -q1\n",
    "    lower = q1 - 1.5*iqr\n",
    "    upper = q3 + 1.5*iqr\n",
    "    return lower, upper"
   ]
  },
  {
   "cell_type": "code",
   "execution_count": 154,
   "id": "54d36473-b5a0-498f-85f4-4e698f5c4907",
   "metadata": {},
   "outputs": [
    {
     "data": {
      "text/plain": [
       "(-737.125, 59747.875)"
      ]
     },
     "execution_count": 154,
     "metadata": {},
     "output_type": "execute_result"
    }
   ],
   "source": [
    "lower, upper = get_lower_upper(df_apac)\n",
    "lower, upper"
   ]
  },
  {
   "cell_type": "code",
   "execution_count": 155,
   "id": "20ded0fb-4e1c-4971-8a61-c0a67f17af78",
   "metadata": {},
   "outputs": [
    {
     "data": {
      "text/plain": [
       "count       12.000000\n",
       "mean     29762.166667\n",
       "std       7725.522905\n",
       "min      18579.000000\n",
       "25%      21944.750000\n",
       "50%      31215.500000\n",
       "75%      37066.000000\n",
       "max      38143.000000\n",
       "Name: Sales, dtype: float64"
      ]
     },
     "execution_count": 155,
     "metadata": {},
     "output_type": "execute_result"
    }
   ],
   "source": [
    "df_apac[\"Sales\"].describe()"
   ]
  },
  {
   "cell_type": "code",
   "execution_count": 156,
   "id": "fe54926e-af6e-483f-be80-14dace72997a",
   "metadata": {},
   "outputs": [],
   "source": [
    "#the lower and upper values are within min and max of describe, hence no outlier\n",
    "# min      18579.000000 > lower and max      38143.000000 < upper"
   ]
  },
  {
   "cell_type": "code",
   "execution_count": 157,
   "id": "267ffad2-6e23-4c40-ae26-ce999939b7bd",
   "metadata": {},
   "outputs": [
    {
     "data": {
      "text/plain": [
       "(7306.875, 17665.875)"
      ]
     },
     "execution_count": 157,
     "metadata": {},
     "output_type": "execute_result"
    }
   ],
   "source": [
    "lower, upper = get_lower_upper(df_europe)\n",
    "lower, upper"
   ]
  },
  {
   "cell_type": "code",
   "execution_count": 158,
   "id": "963c35ba-b053-456f-ace6-c76c1f2bf8f8",
   "metadata": {},
   "outputs": [
    {
     "data": {
      "text/plain": [
       "count       12.000000\n",
       "mean     13147.583333\n",
       "std       3549.568795\n",
       "min       9665.000000\n",
       "25%      11191.500000\n",
       "50%      12044.000000\n",
       "75%      13781.250000\n",
       "max      23000.000000\n",
       "Name: Sales, dtype: float64"
      ]
     },
     "execution_count": 158,
     "metadata": {},
     "output_type": "execute_result"
    }
   ],
   "source": [
    "df_europe[\"Sales\"].describe()"
   ]
  },
  {
   "cell_type": "code",
   "execution_count": 159,
   "id": "3191a557-e3ab-44ab-a54d-fe8c607073f4",
   "metadata": {},
   "outputs": [],
   "source": [
    "# min       9665.000000 > lower, but max  23000.000000 > upper, hence outlier"
   ]
  },
  {
   "cell_type": "code",
   "execution_count": 160,
   "id": "dc82fcdb-f79a-48ec-a9c0-8c912bf1e7c1",
   "metadata": {},
   "outputs": [
    {
     "data": {
      "text/html": [
       "<div>\n",
       "<style scoped>\n",
       "    .dataframe tbody tr th:only-of-type {\n",
       "        vertical-align: middle;\n",
       "    }\n",
       "\n",
       "    .dataframe tbody tr th {\n",
       "        vertical-align: top;\n",
       "    }\n",
       "\n",
       "    .dataframe thead th {\n",
       "        text-align: right;\n",
       "    }\n",
       "</style>\n",
       "<table border=\"1\" class=\"dataframe\">\n",
       "  <thead>\n",
       "    <tr style=\"text-align: right;\">\n",
       "      <th></th>\n",
       "      <th>Month</th>\n",
       "      <th>Year</th>\n",
       "      <th>Region</th>\n",
       "      <th>Sales</th>\n",
       "    </tr>\n",
       "  </thead>\n",
       "  <tbody>\n",
       "    <tr>\n",
       "      <th>21</th>\n",
       "      <td>October</td>\n",
       "      <td>2022</td>\n",
       "      <td>Europe</td>\n",
       "      <td>23000</td>\n",
       "    </tr>\n",
       "  </tbody>\n",
       "</table>\n",
       "</div>"
      ],
      "text/plain": [
       "      Month  Year  Region  Sales\n",
       "21  October  2022  Europe  23000"
      ]
     },
     "execution_count": 160,
     "metadata": {},
     "output_type": "execute_result"
    }
   ],
   "source": [
    "df_europe[df_europe[\"Sales\"] > upper]"
   ]
  },
  {
   "cell_type": "code",
   "execution_count": 161,
   "id": "a3e4c31c-54a8-405d-b440-976791860978",
   "metadata": {},
   "outputs": [
    {
     "data": {
      "text/plain": [
       "(16832.375, 38473.375)"
      ]
     },
     "execution_count": 161,
     "metadata": {},
     "output_type": "execute_result"
    }
   ],
   "source": [
    "lower, upper = get_lower_upper(df_americas)\n",
    "lower, upper"
   ]
  },
  {
   "cell_type": "code",
   "execution_count": 162,
   "id": "78bedbbf-5e72-4d49-9757-0b6ed3944166",
   "metadata": {},
   "outputs": [
    {
     "data": {
      "text/plain": [
       "count       12.000000\n",
       "mean     28356.750000\n",
       "std       3610.368556\n",
       "min      23407.000000\n",
       "25%      24947.750000\n",
       "50%      28770.500000\n",
       "75%      30358.000000\n",
       "max      34102.000000\n",
       "Name: Sales, dtype: float64"
      ]
     },
     "execution_count": 162,
     "metadata": {},
     "output_type": "execute_result"
    }
   ],
   "source": [
    "df_americas[\"Sales\"].describe()"
   ]
  },
  {
   "cell_type": "code",
   "execution_count": 163,
   "id": "aafc688f-e94f-4a79-966d-344aeb8bdd20",
   "metadata": {},
   "outputs": [],
   "source": [
    "# min 23407.000000 > lower and max      34102.000000 = upper , hence no outliers"
   ]
  },
  {
   "cell_type": "code",
   "execution_count": 195,
   "id": "7348f224-055a-4b75-91ea-df05db2047f3",
   "metadata": {},
   "outputs": [
    {
     "data": {
      "text/plain": [
       "array(['APAC', 'Europe', 'Americas'], dtype=object)"
      ]
     },
     "execution_count": 195,
     "metadata": {},
     "output_type": "execute_result"
    }
   ],
   "source": [
    "labels_x = df[\"Region\"].unique()\n",
    "labels_x"
   ]
  },
  {
   "cell_type": "code",
   "execution_count": 203,
   "id": "b22cd8b8-cf61-42ea-b42f-9f66807a79b8",
   "metadata": {},
   "outputs": [],
   "source": [
    "plot_data = [ df[\"Sales\"][df[\"Region\"] == label] for label in labels_x ]"
   ]
  },
  {
   "cell_type": "code",
   "execution_count": 205,
   "id": "cc5c4f1c-3043-4c3e-b527-4cf9ffaecbf2",
   "metadata": {},
   "outputs": [
    {
     "data": {
      "text/plain": [
       "[0     36750\n",
       " 1     36995\n",
       " 2     18579\n",
       " 3     37768\n",
       " 4     23956\n",
       " 5     38143\n",
       " 6     29132\n",
       " 7     21961\n",
       " 8     33299\n",
       " 9     37279\n",
       " 10    21388\n",
       " 11    21896\n",
       " Name: Sales, dtype: int64,\n",
       " 12     9665\n",
       " 13    10297\n",
       " 14    11079\n",
       " 15    13410\n",
       " 16    11229\n",
       " 17    15352\n",
       " 18    13286\n",
       " 19    11470\n",
       " 20    11873\n",
       " 21    23000\n",
       " 22    12215\n",
       " 23    14895\n",
       " Name: Sales, dtype: int64,\n",
       " 24    30247\n",
       " 25    29284\n",
       " 26    27904\n",
       " 27    23407\n",
       " 28    23716\n",
       " 29    25077\n",
       " 30    33649\n",
       " 31    24560\n",
       " 32    34102\n",
       " 33    28257\n",
       " 34    30691\n",
       " 35    29387\n",
       " Name: Sales, dtype: int64]"
      ]
     },
     "execution_count": 205,
     "metadata": {},
     "output_type": "execute_result"
    }
   ],
   "source": [
    "plot_data"
   ]
  },
  {
   "cell_type": "code",
   "execution_count": 207,
   "id": "1d5c2b52-42d8-483b-8ce8-7f16b3db2782",
   "metadata": {},
   "outputs": [],
   "source": [
    "plot_data = [ df[\"Sales\"][df[\"Region\"] == label].values for label in labels_x ]"
   ]
  },
  {
   "cell_type": "code",
   "execution_count": 209,
   "id": "22dca60d-4c61-4910-acd3-28d1f09a6a07",
   "metadata": {},
   "outputs": [
    {
     "data": {
      "text/plain": [
       "[array([36750, 36995, 18579, 37768, 23956, 38143, 29132, 21961, 33299,\n",
       "        37279, 21388, 21896], dtype=int64),\n",
       " array([ 9665, 10297, 11079, 13410, 11229, 15352, 13286, 11470, 11873,\n",
       "        23000, 12215, 14895], dtype=int64),\n",
       " array([30247, 29284, 27904, 23407, 23716, 25077, 33649, 24560, 34102,\n",
       "        28257, 30691, 29387], dtype=int64)]"
      ]
     },
     "execution_count": 209,
     "metadata": {},
     "output_type": "execute_result"
    }
   ],
   "source": [
    "plot_data"
   ]
  },
  {
   "cell_type": "code",
   "execution_count": 219,
   "id": "271c711a-d3ce-4506-8ae5-d58af6a9dcca",
   "metadata": {},
   "outputs": [
    {
     "name": "stderr",
     "output_type": "stream",
     "text": [
      "C:\\Users\\DELL\\AppData\\Local\\Temp\\ipykernel_7492\\1386010393.py:3: MatplotlibDeprecationWarning: The 'labels' parameter of boxplot() has been renamed 'tick_labels' since Matplotlib 3.9; support for the old name will be dropped in 3.11.\n",
      "  plt.boxplot(plot_data, labels = labels_x, vert = True, patch_artist = True)\n"
     ]
    },
    {
     "data": {
      "image/png": "[encoded data removed]",
      "text/plain": [
       "<Figure size 1000x800 with 1 Axes>"
      ]
     },
     "metadata": {},
     "output_type": "display_data"
    }
   ],
   "source": [
    "import matplotlib.pyplot as plt\n",
    "plt.figure(figsize=(10,8))\n",
    "plt.boxplot(plot_data, labels = labels_x, vert = True, patch_artist = True)\n",
    "plt.ylabel(\"Sales\")\n",
    "plt.tight_layout()\n",
    "plt.show()"
   ]
  },
  {
   "cell_type": "code",
   "execution_count": null,
   "id": "c013b072-d7b0-4f57-bb76-d0a1d47a9045",
   "metadata": {},
   "outputs": [],
   "source": []
  },
  {
   "cell_type": "code",
   "execution_count": null,
   "id": "da4d34f9-097a-4e2d-a898-6ae59432c5ff",
   "metadata": {},
   "outputs": [],
   "source": []
  },
  {
   "cell_type": "code",
   "execution_count": null,
   "id": "a6f3d66b-ea7e-4c46-ab93-55cab5d7121f",
   "metadata": {},
   "outputs": [],
   "source": []
  },
  {
   "cell_type": "code",
   "execution_count": null,
   "id": "7a687423-d275-46be-af56-00479cbb2d2f",
   "metadata": {},
   "outputs": [],
   "source": []
  },
  {
   "cell_type": "code",
   "execution_count": null,
   "id": "d6995630-9a71-4b99-8e85-5d7214a93f73",
   "metadata": {},
   "outputs": [],
   "source": []
  },
  {
   "cell_type": "code",
   "execution_count": null,
   "id": "294c45a3-1c87-4cf4-8c37-cb633035c374",
   "metadata": {},
   "outputs": [],
   "source": []
  }
 ],
 "metadata": {
  "kernelspec": {
   "display_name": "Python [conda env:base] *",
   "language": "python",
   "name": "conda-base-py"
  },
  "language_info": {
   "codemirror_mode": {
    "name": "ipython",
    "version": 3
   },
   "file_extension": ".py",
   "mimetype": "text/x-python",
   "name": "python",
   "nbconvert_exporter": "python",
   "pygments_lexer": "ipython3",
   "version": "3.12.7"
  }
 },
 "nbformat": 4,
 "nbformat_minor": 5
}
